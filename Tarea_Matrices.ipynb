{
  "nbformat": 4,
  "nbformat_minor": 0,
  "metadata": {
    "colab": {
      "provenance": [],
      "authorship_tag": "ABX9TyNB9iC4tKFIuraE7rKgdG+K",
      "include_colab_link": true
    },
    "kernelspec": {
      "name": "python3",
      "display_name": "Python 3"
    },
    "language_info": {
      "name": "python"
    }
  },
  "cells": [
    {
      "cell_type": "markdown",
      "metadata": {
        "id": "view-in-github",
        "colab_type": "text"
      },
      "source": [
        "<a href=\"https://colab.research.google.com/github/Danilrox/Algebra-Lineal/blob/main/Tarea_Matrices.ipynb\" target=\"_parent\"><img src=\"https://colab.research.google.com/assets/colab-badge.svg\" alt=\"Open In Colab\"/></a>"
      ]
    },
    {
      "cell_type": "code",
      "execution_count": null,
      "metadata": {
        "colab": {
          "base_uri": "https://localhost:8080/"
        },
        "id": "JjpG2nwqwUFC",
        "outputId": "8462ebad-b82f-4967-e143-18b674a5c2bd"
      },
      "outputs": [
        {
          "output_type": "stream",
          "name": "stdout",
          "text": [
            "Nombre: Jose Daniel Maldonado Rodriguez\n",
            "Carrera: Computación - Primer ciclo\n",
            "Fecha: 2025-10-23\n",
            "Hora: 20:20:40\n"
          ]
        }
      ],
      "source": [
        "import datetime\n",
        "import pytz # Import the pytz library for timezone handling\n",
        "\n",
        "# Replace \"Your Name\" with your actual name\n",
        "name = \"Jose Daniel Maldonado Rodriguez\"\n",
        "carrera = \"Computación - Primer ciclo\"\n",
        "# Get the timezone for Ecuador\n",
        "ecuador_timezone = pytz.timezone('America/Guayaquil')\n",
        "now_ecuador = datetime.datetime.now(ecuador_timezone)\n",
        "\n",
        "\n",
        "print(f\"Nombre: {name}\")\n",
        "print(f\"Carrera: {carrera}\")\n",
        "print(f\"Fecha: {now_ecuador.strftime('%Y-%m-%d')}\")\n",
        "print(f\"Hora: {now_ecuador.strftime('%H:%M:%S')}\")"
      ]
    },
    {
      "cell_type": "code",
      "source": [
        "import numpy as np\n",
        "\n",
        "# Definir dos matrices A y B de 3x3\n",
        "A = np.array([[2, 4, 6],\n",
        "              [1, 3, 5],\n",
        "              [0, -1, 2]])\n",
        "\n",
        "B = np.array([[3, 2, 1],\n",
        "              [4, 0, -2,],\n",
        "              [1, 3, 5,]])\n",
        "\n",
        "print(\"Matriz A:\\n\", A)\n",
        "print(\"\\nMatriz B:\\n\", B)\n",
        "\n",
        "# ------------------------------\n",
        "# Suma de matrices\n",
        "# ------------------------------\n",
        "suma = A + B\n",
        "print(\"\\n Suma (A + B):\\n\", suma)\n",
        "\n",
        "# ------------------------------\n",
        "#  Resta de matrices\n",
        "# ------------------------------\n",
        "resta = A - B\n",
        "print(\"\\n Resta (A - B):\\n\", resta)\n",
        "\n",
        "# ------------------------------\n",
        "# Multiplicación por un escalar\n",
        "# ------------------------------\n",
        "escalar = 2\n",
        "producto_escalar = escalar * A\n",
        "print(f\"\\n Multiplicación por escalar ({escalar} * A):\\n\", producto_escalar)\n",
        "\n",
        "# ------------------------------\n",
        "#  Multiplicación matricial\n",
        "# ------------------------------\n",
        "producto = np.dot(A, B)   # o A @ B\n",
        "print(\"\\n Producto matricial (A * B):\\n\", producto)\n",
        "\n",
        "valor=(A[0,0] * B[0,2] + A[0,1] * B[1,2]+ A[0,2] * B[2,2])\n",
        "\n",
        "print(\"El producto de C[0,0] es \",valor)\n",
        "\n",
        "# ------------------------------\n",
        "# Matriz transpuesta\n",
        "# ------------------------------\n",
        "#transpuesta = A.T\n",
        "#print(\"\\n Transpuesta de A (Aᵀ):\\n\", transpuesta)"
      ],
      "metadata": {
        "colab": {
          "base_uri": "https://localhost:8080/"
        },
        "id": "XsaxOKxFwV1L",
        "outputId": "359de2a7-337e-44f2-bbbc-bcea6f51a6af"
      },
      "execution_count": null,
      "outputs": [
        {
          "output_type": "stream",
          "name": "stdout",
          "text": [
            "Matriz A:\n",
            " [[ 2  4  6]\n",
            " [ 1  3  5]\n",
            " [ 0 -1  2]]\n",
            "\n",
            "Matriz B:\n",
            " [[ 3  2  1]\n",
            " [ 4  0 -2]\n",
            " [ 1  3  5]]\n",
            "\n",
            " Suma (A + B):\n",
            " [[5 6 7]\n",
            " [5 3 3]\n",
            " [1 2 7]]\n",
            "\n",
            " Resta (A - B):\n",
            " [[-1  2  5]\n",
            " [-3  3  7]\n",
            " [-1 -4 -3]]\n",
            "\n",
            " Multiplicación por escalar (2 * A):\n",
            " [[ 4  8 12]\n",
            " [ 2  6 10]\n",
            " [ 0 -2  4]]\n",
            "\n",
            " Producto matricial (A * B):\n",
            " [[28 22 24]\n",
            " [20 17 20]\n",
            " [-2  6 12]]\n",
            "El producto de C[0,0] es  24\n"
          ]
        }
      ]
    }
  ]
}